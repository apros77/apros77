{
 "cells": [
  {
   "cell_type": "markdown",
   "metadata": {
    "isInteractiveWindowMessageCell": true
   },
   "source": [
    "Połączono z base (Python 3.11.5)"
   ]
  },
  {
   "cell_type": "code",
   "execution_count": 1,
   "metadata": {},
   "outputs": [
    {
     "ename": "ModuleNotFoundError",
     "evalue": "No module named 'cv2'",
     "output_type": "error",
     "traceback": [
      "\u001b[1;31m---------------------------------------------------------------------------\u001b[0m",
      "\u001b[1;31mModuleNotFoundError\u001b[0m                       Traceback (most recent call last)",
      "\u001b[1;32mc:\\Users\\p423946\\Desktop\\ble\\opencvdragrect-master\\script.py\u001b[0m in \u001b[0;36mline 3\n\u001b[0;32m      <a href='file:///c%3A/Users/p423946/Desktop/ble/opencvdragrect-master/script.py?line=0'>1</a>\u001b[0m \u001b[39mimport\u001b[39;00m \u001b[39msys\u001b[39;00m\n\u001b[1;32m----> <a href='file:///c%3A/Users/p423946/Desktop/ble/opencvdragrect-master/script.py?line=2'>3</a>\u001b[0m \u001b[39mimport\u001b[39;00m \u001b[39mcv2\u001b[39;00m  \u001b[39m# Opencv ver 3.1.0 used\u001b[39;00m\n\u001b[0;32m      <a href='file:///c%3A/Users/p423946/Desktop/ble/opencvdragrect-master/script.py?line=3'>4</a>\u001b[0m \u001b[39mimport\u001b[39;00m \u001b[39mnumpy\u001b[39;00m \u001b[39mas\u001b[39;00m \u001b[39mnp\u001b[39;00m\n\u001b[0;32m      <a href='file:///c%3A/Users/p423946/Desktop/ble/opencvdragrect-master/script.py?line=5'>6</a>\u001b[0m \u001b[39m# Set recursion limit\u001b[39;00m\n",
      "\u001b[1;31mModuleNotFoundError\u001b[0m: No module named 'cv2'"
     ]
    }
   ],
   "source": [
    "import sys\n",
    "\n",
    "import cv2  # Opencv ver 3.1.0 used\n",
    "import numpy as np\n",
    "\n",
    "# Set recursion limit\n",
    "sys.setrecursionlimit(10 ** 9)\n",
    "\n",
    "import selectinwindow\n",
    "\n",
    "# Initialize the  drag object\n",
    "wName = \"select region\"\n",
    "imageWidth = 320\n",
    "imageHeight = 240\n",
    "image = np.ones([imageHeight, imageWidth, 3], dtype=np.uint8)  # OR read an image using imread()\n",
    "image *= 255\n",
    "\n",
    "# Define the drag object\n",
    "rectI = selectinwindow.DragRectangle(image, wName, imageWidth, imageHeight)\n",
    "\n",
    "cv2.namedWindow(rectI.wname)\n",
    "cv2.setMouseCallback(rectI.wname, selectinwindow.dragrect, rectI)\n",
    "\n",
    "# keep looping until rectangle finalized\n",
    "while True:\n",
    "    # display the image\n",
    "    cv2.imshow(wName, rectI.image)\n",
    "    key = cv2.waitKey(1) & 0xFF\n",
    "\n",
    "    # if returnflag is True, break from the loop\n",
    "    if rectI.returnflag:\n",
    "        break\n",
    "\n",
    "print(\"Dragged rectangle coordinates\")\n",
    "print(str(rectI.outRect.x) + ',' + str(rectI.outRect.y) + ',' + \\\n",
    "      str(rectI.outRect.w) + ',' + str(rectI.outRect.h))\n",
    "\n",
    "# close all open windows\n",
    "cv2.destroyAllWindows()"
   ]
  },
  {
   "cell_type": "markdown",
   "metadata": {
    "isInteractiveWindowMessageCell": true
   },
   "source": [
    "Połączono z base (Python 3.11.5)"
   ]
  },
  {
   "cell_type": "code",
   "execution_count": 1,
   "metadata": {},
   "outputs": [
    {
     "ename": "ImportError",
     "evalue": "OpenCV loader: missing configuration file: ['config-3.11.py', 'config-3.py']. Check OpenCV installation.",
     "output_type": "error",
     "traceback": [
      "\u001b[1;31m---------------------------------------------------------------------------\u001b[0m",
      "\u001b[1;31mImportError\u001b[0m                               Traceback (most recent call last)",
      "\u001b[1;32mc:\\Users\\p423946\\Desktop\\ble\\opencvdragrect-master\\script.py\u001b[0m in \u001b[0;36mline 3\n\u001b[0;32m      <a href='file:///c%3A/Users/p423946/Desktop/ble/opencvdragrect-master/script.py?line=0'>1</a>\u001b[0m \u001b[39mimport\u001b[39;00m \u001b[39msys\u001b[39;00m\n\u001b[1;32m----> <a href='file:///c%3A/Users/p423946/Desktop/ble/opencvdragrect-master/script.py?line=2'>3</a>\u001b[0m \u001b[39mimport\u001b[39;00m \u001b[39mcv2\u001b[39;00m  \u001b[39m# Opencv ver 3.1.0 used\u001b[39;00m\n\u001b[0;32m      <a href='file:///c%3A/Users/p423946/Desktop/ble/opencvdragrect-master/script.py?line=3'>4</a>\u001b[0m \u001b[39mimport\u001b[39;00m \u001b[39mnumpy\u001b[39;00m \u001b[39mas\u001b[39;00m \u001b[39mnp\u001b[39;00m\n\u001b[0;32m      <a href='file:///c%3A/Users/p423946/Desktop/ble/opencvdragrect-master/script.py?line=5'>6</a>\u001b[0m \u001b[39m# Set recursion limit\u001b[39;00m\n",
      "File \u001b[1;32mc:\\Users\\p423946\\AppData\\Local\\anaconda3\\Lib\\site-packages\\cv2\\__init__.py:181\u001b[0m\n\u001b[0;32m    <a href='file:///c%3A/Users/p423946/AppData/Local/anaconda3/Lib/site-packages/cv2/__init__.py?line=175'>176</a>\u001b[0m             \u001b[39mif\u001b[39;00m DEBUG: \u001b[39mprint\u001b[39m(\u001b[39m\"\u001b[39m\u001b[39mExtra Python code for\u001b[39m\u001b[39m\"\u001b[39m, submodule, \u001b[39m\"\u001b[39m\u001b[39mis loaded\u001b[39m\u001b[39m\"\u001b[39m)\n\u001b[0;32m    <a href='file:///c%3A/Users/p423946/AppData/Local/anaconda3/Lib/site-packages/cv2/__init__.py?line=177'>178</a>\u001b[0m     \u001b[39mif\u001b[39;00m DEBUG: \u001b[39mprint\u001b[39m(\u001b[39m'\u001b[39m\u001b[39mOpenCV loader: DONE\u001b[39m\u001b[39m'\u001b[39m)\n\u001b[1;32m--> <a href='file:///c%3A/Users/p423946/AppData/Local/anaconda3/Lib/site-packages/cv2/__init__.py?line=180'>181</a>\u001b[0m bootstrap()\n",
      "File \u001b[1;32mc:\\Users\\p423946\\AppData\\Local\\anaconda3\\Lib\\site-packages\\cv2\\__init__.py:112\u001b[0m, in \u001b[0;36mbootstrap\u001b[1;34m()\u001b[0m\n\u001b[0;32m    <a href='file:///c%3A/Users/p423946/AppData/Local/anaconda3/Lib/site-packages/cv2/__init__.py?line=108'>109</a>\u001b[0m         \u001b[39mraise\u001b[39;00m \u001b[39mImportError\u001b[39;00m(\u001b[39m'\u001b[39m\u001b[39mOpenCV loader: missing configuration file: \u001b[39m\u001b[39m{}\u001b[39;00m\u001b[39m. Check OpenCV installation.\u001b[39m\u001b[39m'\u001b[39m\u001b[39m.\u001b[39mformat(fnames))\n\u001b[0;32m    <a href='file:///c%3A/Users/p423946/AppData/Local/anaconda3/Lib/site-packages/cv2/__init__.py?line=110'>111</a>\u001b[0m load_first_config([\u001b[39m'\u001b[39m\u001b[39mconfig.py\u001b[39m\u001b[39m'\u001b[39m], \u001b[39mTrue\u001b[39;00m)\n\u001b[1;32m--> <a href='file:///c%3A/Users/p423946/AppData/Local/anaconda3/Lib/site-packages/cv2/__init__.py?line=111'>112</a>\u001b[0m load_first_config([\n\u001b[0;32m    <a href='file:///c%3A/Users/p423946/AppData/Local/anaconda3/Lib/site-packages/cv2/__init__.py?line=112'>113</a>\u001b[0m     \u001b[39m'\u001b[39m\u001b[39mconfig-\u001b[39m\u001b[39m{}\u001b[39;00m\u001b[39m.\u001b[39m\u001b[39m{}\u001b[39;00m\u001b[39m.py\u001b[39m\u001b[39m'\u001b[39m\u001b[39m.\u001b[39mformat(sys\u001b[39m.\u001b[39mversion_info[\u001b[39m0\u001b[39m], sys\u001b[39m.\u001b[39mversion_info[\u001b[39m1\u001b[39m]),\n\u001b[0;32m    <a href='file:///c%3A/Users/p423946/AppData/Local/anaconda3/Lib/site-packages/cv2/__init__.py?line=113'>114</a>\u001b[0m     \u001b[39m'\u001b[39m\u001b[39mconfig-\u001b[39m\u001b[39m{}\u001b[39;00m\u001b[39m.py\u001b[39m\u001b[39m'\u001b[39m\u001b[39m.\u001b[39mformat(sys\u001b[39m.\u001b[39mversion_info[\u001b[39m0\u001b[39m])\n\u001b[0;32m    <a href='file:///c%3A/Users/p423946/AppData/Local/anaconda3/Lib/site-packages/cv2/__init__.py?line=114'>115</a>\u001b[0m ], \u001b[39mTrue\u001b[39;00m)\n\u001b[0;32m    <a href='file:///c%3A/Users/p423946/AppData/Local/anaconda3/Lib/site-packages/cv2/__init__.py?line=116'>117</a>\u001b[0m \u001b[39mif\u001b[39;00m DEBUG: \u001b[39mprint\u001b[39m(\u001b[39m'\u001b[39m\u001b[39mOpenCV loader: PYTHON_EXTENSIONS_PATHS=\u001b[39m\u001b[39m{}\u001b[39;00m\u001b[39m'\u001b[39m\u001b[39m.\u001b[39mformat(\u001b[39mstr\u001b[39m(l_vars[\u001b[39m'\u001b[39m\u001b[39mPYTHON_EXTENSIONS_PATHS\u001b[39m\u001b[39m'\u001b[39m])))\n\u001b[0;32m    <a href='file:///c%3A/Users/p423946/AppData/Local/anaconda3/Lib/site-packages/cv2/__init__.py?line=117'>118</a>\u001b[0m \u001b[39mif\u001b[39;00m DEBUG: \u001b[39mprint\u001b[39m(\u001b[39m'\u001b[39m\u001b[39mOpenCV loader: BINARIES_PATHS=\u001b[39m\u001b[39m{}\u001b[39;00m\u001b[39m'\u001b[39m\u001b[39m.\u001b[39mformat(\u001b[39mstr\u001b[39m(l_vars[\u001b[39m'\u001b[39m\u001b[39mBINARIES_PATHS\u001b[39m\u001b[39m'\u001b[39m])))\n",
      "File \u001b[1;32mc:\\Users\\p423946\\AppData\\Local\\anaconda3\\Lib\\site-packages\\cv2\\__init__.py:109\u001b[0m, in \u001b[0;36mbootstrap.<locals>.load_first_config\u001b[1;34m(fnames, required)\u001b[0m\n\u001b[0;32m    <a href='file:///c%3A/Users/p423946/AppData/Local/anaconda3/Lib/site-packages/cv2/__init__.py?line=106'>107</a>\u001b[0m     \u001b[39mreturn\u001b[39;00m \u001b[39mTrue\u001b[39;00m\n\u001b[0;32m    <a href='file:///c%3A/Users/p423946/AppData/Local/anaconda3/Lib/site-packages/cv2/__init__.py?line=107'>108</a>\u001b[0m \u001b[39mif\u001b[39;00m required:\n\u001b[1;32m--> <a href='file:///c%3A/Users/p423946/AppData/Local/anaconda3/Lib/site-packages/cv2/__init__.py?line=108'>109</a>\u001b[0m     \u001b[39mraise\u001b[39;00m \u001b[39mImportError\u001b[39;00m(\u001b[39m'\u001b[39m\u001b[39mOpenCV loader: missing configuration file: \u001b[39m\u001b[39m{}\u001b[39;00m\u001b[39m. Check OpenCV installation.\u001b[39m\u001b[39m'\u001b[39m\u001b[39m.\u001b[39mformat(fnames))\n",
      "\u001b[1;31mImportError\u001b[0m: OpenCV loader: missing configuration file: ['config-3.11.py', 'config-3.py']. Check OpenCV installation."
     ]
    }
   ],
   "source": [
    "import sys\n",
    "\n",
    "import cv2  # Opencv ver 3.1.0 used\n",
    "import numpy as np\n",
    "\n",
    "# Set recursion limit\n",
    "sys.setrecursionlimit(10 ** 9)\n",
    "\n",
    "import selectinwindow\n",
    "\n",
    "# Initialize the  drag object\n",
    "wName = \"select region\"\n",
    "imageWidth = 320\n",
    "imageHeight = 240\n",
    "image = np.ones([imageHeight, imageWidth, 3], dtype=np.uint8)  # OR read an image using imread()\n",
    "image *= 255\n",
    "\n",
    "# Define the drag object\n",
    "rectI = selectinwindow.DragRectangle(image, wName, imageWidth, imageHeight)\n",
    "\n",
    "cv2.namedWindow(rectI.wname)\n",
    "cv2.setMouseCallback(rectI.wname, selectinwindow.dragrect, rectI)\n",
    "\n",
    "# keep looping until rectangle finalized\n",
    "while True:\n",
    "    # display the image\n",
    "    cv2.imshow(wName, rectI.image)\n",
    "    key = cv2.waitKey(1) & 0xFF\n",
    "\n",
    "    # if returnflag is True, break from the loop\n",
    "    if rectI.returnflag:\n",
    "        break\n",
    "\n",
    "print(\"Dragged rectangle coordinates\")\n",
    "print(str(rectI.outRect.x) + ',' + str(rectI.outRect.y) + ',' + \\\n",
    "      str(rectI.outRect.w) + ',' + str(rectI.outRect.h))\n",
    "\n",
    "# close all open windows\n",
    "cv2.destroyAllWindows()"
   ]
  }
 ],
 "metadata": {
  "kernelspec": {
   "display_name": "base",
   "language": "python",
   "name": "python3"
  },
  "language_info": {
   "name": "python",
   "version": "3.11.5"
  }
 },
 "nbformat": 4,
 "nbformat_minor": 2
}
